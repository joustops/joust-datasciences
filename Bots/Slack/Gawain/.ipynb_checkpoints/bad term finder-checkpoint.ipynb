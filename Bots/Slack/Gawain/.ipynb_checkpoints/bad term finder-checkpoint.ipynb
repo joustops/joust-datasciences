{
 "cells": [
  {
   "cell_type": "code",
   "execution_count": null,
   "metadata": {},
   "outputs": [],
   "source": [
    "import pandas as pd \n",
    "import numpy as np \n",
    "from sklearn.metrics import r2_score\n",
    "import matplotlib.pyplot as plt \n",
    "import distance\n",
    "import json\n",
    "import os\n",
    "import slack\n",
    "from datetime import timedelta,datetime\n",
    "from sshtunnel import SSHTunnelForwarder\n",
    "import psycopg2\n",
    "import nbslack"
   ]
  },
  {
   "cell_type": "code",
   "execution_count": null,
   "metadata": {},
   "outputs": [],
   "source": [
    "webhook = 'https://hooks.slack.com/services/' + str(os.environ.get('SLACK_ANALYTICS_WEB'))\n",
    "nbslack.notifying('Siddhesvar',webhook)"
   ]
  },
  {
   "cell_type": "code",
   "execution_count": null,
   "metadata": {},
   "outputs": [],
   "source": [
    "try:\n",
    "    with SSHTunnelForwarder(\n",
    "        (os.environ.get('JOUST_IP'), 22),\n",
    "        ssh_private_key=\"~/.ssh/id_rsa\",\n",
    "        ssh_username=\"ubuntu\",\n",
    "        remote_bind_address=(os.environ.get('JOUST_ADDRESS'), 5432)) as server:\n",
    "\n",
    "        server.start()\n",
    "        print(\"server connected\")\n",
    "\n",
    "        params = {\n",
    "            \"database\": \"joust_production\",\n",
    "            \"user\": \"sid\",\n",
    "            \"password\": os.environ.get('JOUST_PASS'),\n",
    "            \"host\": \"localhost\",\n",
    "            \"port\": server.local_bind_port\n",
    "        }\n",
    "\n",
    "        conn = psycopg2.connect(**params)\n",
    "        curs = conn.cursor()\n",
    "        print(\"database connected\")\n",
    "\n",
    "        #curs.execute(\"select * from public.account_holders\")\n",
    "        total = \"select account_holders.id, first_name, last_name, occupations.\\\"name\\\" as occupation, industries.\\\"name\\\" as industry, type_of_work, account_holders.created_at, marketing.value as legacy_business_url, email, date_of_birth, q2_core_pro_customer_id from account_holders left join occupations on account_holders.occupation_id = occupations.id left join industries on occupations.industry_id = industries.id left join businesses on account_holders.id = businesses.account_holder_id left join marketing on businesses.id = marketing.business_id\"\n",
    "                \n",
    "        #result = curs.fetchall()\n",
    "        tra = pd.read_sql_query(transfers, conn)\n",
    "        ids = pd.read_sql_query(total, conn)\n",
    "        req = pd.read_sql_query(invoices, conn)\n",
    "\n",
    "        conn.close()\n",
    "\n",
    "except Exception as e:\n",
    "    print(e)\n",
    "    print(\"Connection Failed\")"
   ]
  },
  {
   "cell_type": "code",
   "execution_count": null,
   "metadata": {},
   "outputs": [],
   "source": [
    "fin = ids\n",
    "fin['created_at'] = pd.to_datetime(fin['created_at'])\n",
    "fin['created_at'] = fin['created_at'].dt.tz_localize('utc')\n",
    "fin['created_at'] = fin['created_at'].dt.tz_convert('US/Central')"
   ]
  },
  {
   "cell_type": "code",
   "execution_count": null,
   "metadata": {},
   "outputs": [],
   "source": [
    "yest = datetime.utcnow() - timedelta(1)\n",
    "yr = yest.year\n",
    "mo = yest.month\n",
    "dy = yest.day"
   ]
  },
  {
   "cell_type": "code",
   "execution_count": null,
   "metadata": {},
   "outputs": [],
   "source": [
    "fin['Year'] = fin['created_at'].dt.year\n",
    "fin['Month'] = fin['created_at'].dt.month\n",
    "fin['Day'] = fin['created_at'].dt.day"
   ]
  },
  {
   "cell_type": "code",
   "execution_count": null,
   "metadata": {},
   "outputs": [],
   "source": [
    "fin2 = fin[fin['Year'] == yr]\n",
    "fin2 = fin2[fin2['Month'] == mo]\n",
    "fin2 = fin2[fin2['Day'] == dy]"
   ]
  },
  {
   "cell_type": "code",
   "execution_count": null,
   "metadata": {},
   "outputs": [],
   "source": [
    "badwords = ['blood','weed','drugs']"
   ]
  },
  {
   "cell_type": "code",
   "execution_count": null,
   "metadata": {},
   "outputs": [],
   "source": [
    "emails = fin2[['email']].dropna()['email'].values\n",
    "urls = fin2[['legacy_business_url']].dropna()['legacy_business_url'].values\n",
    "jobs = fin2[['occupation']].dropna()['occupation'].values"
   ]
  },
  {
   "cell_type": "code",
   "execution_count": null,
   "metadata": {},
   "outputs": [],
   "source": [
    "emails2 = []\n",
    "urls2 = []\n",
    "jobs2 = []\n",
    "for b in badwords:\n",
    "    emails3 = [i for i in emails if b in i]\n",
    "    emails2.extend(emails3)\n",
    "    urls3 = [i for i in urls if b in i]\n",
    "    urls2.extend(urls3)\n",
    "    jobs3 = [i for i in jobs if b in i]\n",
    "    jobs2.extend(jobs3)"
   ]
  },
  {
   "cell_type": "code",
   "execution_count": null,
   "metadata": {},
   "outputs": [],
   "source": [
    "ids = []\n",
    "for z in emails2:\n",
    "    ids.extend(fin2[fin2['email'] == z]['id'].values)\n",
    "for z in urls2:\n",
    "    ids.extend(fin2[fin2['legacy_business_url'] == z]['id'].values)\n",
    "for z in jobs2:\n",
    "    ids.extend(fin2[fin2['occupation'] == z]['id'].values)"
   ]
  },
  {
   "cell_type": "code",
   "execution_count": null,
   "metadata": {},
   "outputs": [],
   "source": [
    "str(ids)"
   ]
  },
  {
   "cell_type": "code",
   "execution_count": null,
   "metadata": {},
   "outputs": [],
   "source": [
    "0 * * * * eval `ssh-agent -s` && ssh-add && //anaconda3/bin/python /Users/siddhesvark/Desktop/Data\\ Analysis/Deployed\\ MAU/Daily\\ Slack\\ Info.py\n",
    "chmod +x /Users/siddhesvark/Desktop/Data\\ Analysis/Deployed\\ MAU/Daily\\ Slack\\ Info.py"
   ]
  }
 ],
 "metadata": {
  "kernelspec": {
   "display_name": "Python 3",
   "language": "python",
   "name": "python3"
  },
  "language_info": {
   "codemirror_mode": {
    "name": "ipython",
    "version": 3
   },
   "file_extension": ".py",
   "mimetype": "text/x-python",
   "name": "python",
   "nbconvert_exporter": "python",
   "pygments_lexer": "ipython3",
   "version": "3.7.3"
  }
 },
 "nbformat": 4,
 "nbformat_minor": 2
}
