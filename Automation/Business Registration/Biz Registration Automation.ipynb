{
 "cells": [
  {
   "cell_type": "code",
   "execution_count": 43,
   "metadata": {},
   "outputs": [],
   "source": [
    "from selenium import webdriver\n",
    "from selenium.webdriver.common.keys import Keys\n",
    "from selenium.webdriver.support.ui import Select"
   ]
  },
  {
   "cell_type": "markdown",
   "metadata": {},
   "source": [
    "### Variables"
   ]
  },
  {
   "cell_type": "code",
   "execution_count": 44,
   "metadata": {},
   "outputs": [],
   "source": [
    "# replace this with user inputs in api call\n",
    "BizTypeOptions = ['Limited Liability Company (Domestic)', 'Profit Corporation (Domestic)', 'Nonprofit Corporation (Domestic)', 'Nonprofit Corporation (Domestic)', 'Limited Partnership (Domestic)']\n",
    "BizType = 'Limited Liability Company (Domestic)'\n",
    "BizName = 'Sids Boring Test Case LLC'\n",
    "AddDesignationOptions = ['Close', 'L3C', 'Processing Co-Op', 'Series', 'Series and Close']\n",
    "AddDesignation = 'Close'\n",
    "PerDurationChoices = ['Expires - 30 years', 'Expires - 50 years', 'Expires - 99 years', 'Perpetual']\n",
    "PerDuration = 'Expires - 30 years'\n",
    "FirstName = 'Sid'\n",
    "LastName = 'Kannan'\n",
    "AddressLine1 = '603 E Ivinson Ave'\n",
    "City = 'Laramie'\n",
    "Phone = '6266105295'\n",
    "Email = 'sid@joust.com'\n",
    "Zip = '82070'\n",
    "PrinAddressLine1 = '603 E Ivinson Ave'\n",
    "PrinCity = 'Laramie'\n",
    "PrinState = 'WY'\n",
    "PrinZip = '82070'\n",
    "PrinPhone = '6266105295'\n",
    "PrinEmail = 'sid@joust.com'\n",
    "MailAddressLine1 = '603 E Ivinson Ave'\n",
    "MailCity = 'Laramie'\n",
    "MailState = 'WY'\n",
    "MailZip = '82070'\n",
    "# in the api, create a list and then pass\n",
    "OrgFName = ['Sid']\n",
    "OrgLName = ['Kannan']\n",
    "Org = ['Sids Boring Test Case LLC']\n",
    "OrgAddress = ['603 E Ivinson Ave Laramie, WY 82070']\n",
    "AddArticlesDet = ['Your mom']\n",
    "Title = 'GodMan'\n"
   ]
  },
  {
   "cell_type": "markdown",
   "metadata": {},
   "source": [
    "### Start"
   ]
  },
  {
   "cell_type": "code",
   "execution_count": 45,
   "metadata": {},
   "outputs": [],
   "source": [
    "url = \"https://wyobiz.wyo.gov/Business/RegistrationInstr.aspx\"\n",
    "driver = webdriver.Firefox()\n",
    "driver.implicitly_wait(30)\n",
    "driver.get(url)"
   ]
  },
  {
   "cell_type": "code",
   "execution_count": 46,
   "metadata": {},
   "outputs": [],
   "source": [
    "button = driver.find_element_by_id('regStartNow')\n",
    "button.click()"
   ]
  },
  {
   "cell_type": "markdown",
   "metadata": {},
   "source": [
    "### Type"
   ]
  },
  {
   "cell_type": "code",
   "execution_count": 47,
   "metadata": {},
   "outputs": [],
   "source": [
    "dropdown = Select(driver.find_element_by_id('MainContent_slctBusType'))\n",
    "dropdown.select_by_visible_text(BizType)"
   ]
  },
  {
   "cell_type": "code",
   "execution_count": 48,
   "metadata": {},
   "outputs": [],
   "source": [
    "button = driver.find_element_by_id('MainContent_chkAgree')\n",
    "button.click()"
   ]
  },
  {
   "cell_type": "code",
   "execution_count": 49,
   "metadata": {},
   "outputs": [],
   "source": [
    "button = driver.find_element_by_id('MainContent_ContinueButton')\n",
    "button.click()"
   ]
  },
  {
   "cell_type": "markdown",
   "metadata": {},
   "source": [
    "### Business Name"
   ]
  },
  {
   "cell_type": "code",
   "execution_count": 50,
   "metadata": {},
   "outputs": [],
   "source": [
    "BizName1 = driver.find_element_by_id('txtName')\n",
    "BizName2 = driver.find_element_by_id('txtNameConfirm')\n",
    "BizName1.send_keys(BizName)\n",
    "BizName2.send_keys(BizName)"
   ]
  },
  {
   "cell_type": "code",
   "execution_count": 51,
   "metadata": {},
   "outputs": [],
   "source": [
    "dropdown = Select(driver.find_element_by_id('ddlFilingSubType'))\n",
    "dropdown.select_by_visible_text(AddDesignation)"
   ]
  },
  {
   "cell_type": "code",
   "execution_count": 52,
   "metadata": {},
   "outputs": [],
   "source": [
    "button = driver.find_element_by_id('ContinueButton')\n",
    "button.click()"
   ]
  },
  {
   "cell_type": "markdown",
   "metadata": {},
   "source": [
    "### Detail"
   ]
  },
  {
   "cell_type": "code",
   "execution_count": 53,
   "metadata": {},
   "outputs": [],
   "source": [
    "# Add option to select expires and choose expiry date\n",
    "dropdown = Select(driver.find_element_by_id('ddlDuration'))\n",
    "dropdown.select_by_visible_text(PerDuration)"
   ]
  },
  {
   "cell_type": "code",
   "execution_count": 54,
   "metadata": {},
   "outputs": [],
   "source": [
    "#If this filing is NOT to be effective immediately, enter the effective date within the next 90 calendar days."
   ]
  },
  {
   "cell_type": "code",
   "execution_count": 55,
   "metadata": {},
   "outputs": [],
   "source": [
    "button = driver.find_element_by_id('ContinueButton')\n",
    "button.click()"
   ]
  },
  {
   "cell_type": "markdown",
   "metadata": {},
   "source": [
    "### Agent"
   ]
  },
  {
   "cell_type": "code",
   "execution_count": 56,
   "metadata": {},
   "outputs": [],
   "source": [
    "FirstNameField = driver.find_element_by_id('txtFirstName')\n",
    "LastNameField = driver.find_element_by_id('txtLastName')\n",
    "AddressLine1Field = driver.find_element_by_id('txtAddr1')\n",
    "CityField = driver.find_element_by_id('txtCity')\n",
    "PhoneField = driver.find_element_by_id('txtPhone')\n",
    "EmailField = driver.find_element_by_id('txtEmail')\n",
    "FirstNameField.send_keys(FirstName)\n",
    "LastNameField.send_keys(LastName)\n",
    "AddressLine1Field.send_keys(AddressLine1)\n",
    "CityField.send_keys(City)\n",
    "PhoneField.send_keys(Phone)\n",
    "EmailField.send_keys(Email)"
   ]
  },
  {
   "cell_type": "code",
   "execution_count": 57,
   "metadata": {},
   "outputs": [],
   "source": [
    "# do if statement here if mult zip screen pops up\n",
    "button = driver.find_element_by_xpath('.//div[contains(@onclick, '+ str(Zip) +')]')\n",
    "button.click()"
   ]
  },
  {
   "cell_type": "code",
   "execution_count": 58,
   "metadata": {},
   "outputs": [],
   "source": [
    "button = driver.find_element_by_id('chkRAConsent')\n",
    "button.click()"
   ]
  },
  {
   "cell_type": "code",
   "execution_count": 59,
   "metadata": {},
   "outputs": [],
   "source": [
    "button = driver.find_element_by_id('ContinueButton')\n",
    "button.click()"
   ]
  },
  {
   "cell_type": "code",
   "execution_count": 61,
   "metadata": {},
   "outputs": [],
   "source": [
    "button = driver.find_element_by_id('ContinueButton')\n",
    "button.click()"
   ]
  },
  {
   "cell_type": "markdown",
   "metadata": {},
   "source": [
    "### Addresses"
   ]
  },
  {
   "cell_type": "code",
   "execution_count": 19,
   "metadata": {},
   "outputs": [],
   "source": [
    "AddressLine1Field = driver.find_element_by_id('txtAddr1')\n",
    "CityField = driver.find_element_by_id('txtCity')\n",
    "StateField = driver.find_element_by_id('txtState')\n",
    "ZipField = driver.find_element_by_id('txtPostal')\n",
    "PhoneField = driver.find_element_by_id('txtPhone')\n",
    "EmailField = driver.find_element_by_id('txtEmail')\n",
    "AddressLine1Field.send_keys(PrinAddressLine1)\n",
    "CityField.send_keys(PrinCity)\n",
    "StateField.send_keys(PrinState)\n",
    "ZipField.send_keys(PrinZip)\n",
    "PhoneField.send_keys(PrinPhone)\n",
    "EmailField.send_keys(PrinEmail)"
   ]
  },
  {
   "cell_type": "code",
   "execution_count": 20,
   "metadata": {},
   "outputs": [],
   "source": [
    "AddressLine1Field = driver.find_element_by_id('txtAddr1Mail')\n",
    "CityField = driver.find_element_by_id('txtCityMail')\n",
    "StateField = driver.find_element_by_id('txtStateMail')\n",
    "ZipField = driver.find_element_by_id('txtPostalMail')\n",
    "AddressLine1Field.send_keys(MailAddressLine1)\n",
    "CityField.send_keys(MailCity)\n",
    "StateField.send_keys(MailState)\n",
    "ZipField.send_keys(MailZip)"
   ]
  },
  {
   "cell_type": "code",
   "execution_count": 21,
   "metadata": {},
   "outputs": [],
   "source": [
    "button = driver.find_element_by_id('ContinueButton')\n",
    "button.click()"
   ]
  },
  {
   "cell_type": "markdown",
   "metadata": {},
   "source": [
    "### Organizers"
   ]
  },
  {
   "cell_type": "code",
   "execution_count": 22,
   "metadata": {},
   "outputs": [],
   "source": [
    "# edit to work for multiple organizers\n",
    "for k in range(len(OrgFName)):\n",
    "    FirstNameField = driver.find_element_by_id('txtFirstName')\n",
    "    LastNameField = driver.find_element_by_id('txtLastName')\n",
    "    #OrgField = driver.find_element_by_id('txtOrgName')\n",
    "    AddressField = driver.find_element_by_id('txtMail1')\n",
    "    FirstNameField.send_keys(OrgFName[k])\n",
    "    LastNameField.send_keys(OrgLName[k])\n",
    "    #OrgField.send_keys(Org[k])\n",
    "    AddressField.send_keys(OrgAddress[k])\n",
    "    button = driver.find_element_by_id('SaveButton')\n",
    "    button.click()"
   ]
  },
  {
   "cell_type": "code",
   "execution_count": 23,
   "metadata": {},
   "outputs": [],
   "source": [
    "button = driver.find_element_by_id('ContinueButton')\n",
    "button.click()"
   ]
  },
  {
   "cell_type": "markdown",
   "metadata": {},
   "source": [
    "### Additional Articles"
   ]
  },
  {
   "cell_type": "code",
   "execution_count": 24,
   "metadata": {},
   "outputs": [],
   "source": [
    "for k in range(len(AddArticlesDet)):\n",
    "    ArtDetailField = driver.find_element_by_id('txtArticleDetail')\n",
    "    ArtDetailField.send_keys(AddArticlesDet[k])\n",
    "    button = driver.find_element_by_id('SaveButton')\n",
    "    button.click()"
   ]
  },
  {
   "cell_type": "code",
   "execution_count": 25,
   "metadata": {},
   "outputs": [],
   "source": [
    "button = driver.find_element_by_id('ContinueButton')\n",
    "button.click()"
   ]
  },
  {
   "cell_type": "markdown",
   "metadata": {},
   "source": [
    "### Confirmation"
   ]
  },
  {
   "cell_type": "code",
   "execution_count": 26,
   "metadata": {},
   "outputs": [],
   "source": [
    "button = driver.find_element_by_id('ContinueButton')\n",
    "button.click()"
   ]
  },
  {
   "cell_type": "markdown",
   "metadata": {},
   "source": [
    "### Signature"
   ]
  },
  {
   "cell_type": "code",
   "execution_count": 27,
   "metadata": {},
   "outputs": [],
   "source": [
    "button = driver.find_element_by_id('chk1')\n",
    "button.click()\n",
    "button = driver.find_element_by_id('chk2')\n",
    "button.click()\n",
    "button = driver.find_element_by_id('chk3')\n",
    "button.click()\n",
    "button = driver.find_element_by_id('chk4')\n",
    "button.click()\n",
    "button = driver.find_element_by_id('chk5')\n",
    "button.click()\n",
    "button = driver.find_element_by_id('chkFalseFiling')\n",
    "button.click()\n",
    "button = driver.find_element_by_id('chkFilerIsInd')\n",
    "button.click()"
   ]
  },
  {
   "cell_type": "code",
   "execution_count": 28,
   "metadata": {},
   "outputs": [],
   "source": [
    "FirstNameField = driver.find_element_by_id('txtFirstName')\n",
    "LastNameField = driver.find_element_by_id('txtLastName')\n",
    "TitleField = driver.find_element_by_id('txtTitle')\n",
    "PhoneField1 = driver.find_element_by_id('txtPhone')\n",
    "PhoneField2 = driver.find_element_by_id('txtPhoneConfirm')\n",
    "EmailField1 = driver.find_element_by_id('txtEmail')\n",
    "EmailField2 = driver.find_element_by_id('txtEmailConfirm')\n",
    "FirstNameField.send_keys(FirstName)\n",
    "LastNameField.send_keys(LastName)\n",
    "TitleField.send_keys(Title)\n",
    "PhoneField1.send_keys(Phone)\n",
    "PhoneField2.send_keys(Phone)\n",
    "EmailField1.send_keys(Email)\n",
    "EmailField2.send_keys(Email)"
   ]
  },
  {
   "cell_type": "code",
   "execution_count": null,
   "metadata": {},
   "outputs": [],
   "source": [
    "#chmod +x /Users/siddhesvark/Desktop/Data\\ Analysis/Freelance\\ Research/Biz\\ Registration\\ Automation.py\n",
    "#python /Users/siddhesvark/Desktop/Data\\ Analysis/Freelance\\ Research/Biz\\ Registration\\ Automation.py"
   ]
  }
 ],
 "metadata": {
  "kernelspec": {
   "display_name": "Python 3",
   "language": "python",
   "name": "python3"
  },
  "language_info": {
   "codemirror_mode": {
    "name": "ipython",
    "version": 3
   },
   "file_extension": ".py",
   "mimetype": "text/x-python",
   "name": "python",
   "nbconvert_exporter": "python",
   "pygments_lexer": "ipython3",
   "version": "3.7.3"
  }
 },
 "nbformat": 4,
 "nbformat_minor": 2
}
