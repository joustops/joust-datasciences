{
 "cells": [
  {
   "cell_type": "code",
   "execution_count": 41,
   "metadata": {},
   "outputs": [],
   "source": [
    "from selenium import webdriver\n",
    "from selenium.webdriver.common.keys import Keys\n",
    "from bs4 import BeautifulSoup\n",
    "import re\n",
    "import pandas as pd\n",
    "import os\n",
    "from datetime import timedelta,datetime\n",
    "import glob\n",
    "import shutil"
   ]
  },
  {
   "cell_type": "code",
   "execution_count": 42,
   "metadata": {},
   "outputs": [],
   "source": [
    "url = \"https://xfer.propay.com/human.aspx?r=48080288&orgid=7653&rd=1\"\n",
    "driver = webdriver.Firefox()\n",
    "driver.implicitly_wait(30)\n",
    "driver.get(url)"
   ]
  },
  {
   "cell_type": "code",
   "execution_count": 32,
   "metadata": {},
   "outputs": [],
   "source": [
    "driver.fullscreen_window()"
   ]
  },
  {
   "cell_type": "code",
   "execution_count": 43,
   "metadata": {},
   "outputs": [],
   "source": [
    "username = driver.find_element_by_id('form_username') #username\n",
    "password = driver.find_element_by_id('form_password') #password\n",
    "username.send_keys(os.environ.get('PROPAY_USER'))\n",
    "password.send_keys(\"PROPAY_PASS\")"
   ]
  },
  {
   "cell_type": "code",
   "execution_count": 44,
   "metadata": {},
   "outputs": [],
   "source": [
    "button = driver.find_element_by_id('submit_button')\n",
    "button.click()"
   ]
  },
  {
   "cell_type": "code",
   "execution_count": 45,
   "metadata": {},
   "outputs": [],
   "source": [
    "yest = datetime.utcnow() - timedelta(1)\n",
    "yr = yest.year\n",
    "mo = yest.month\n",
    "dy = yest.day\n",
    "if (mo < 10):\n",
    "    mo = '0' + str(mo)\n",
    "if (dy < 10):\n",
    "    dy = '0' + str(dy)"
   ]
  },
  {
   "cell_type": "code",
   "execution_count": 46,
   "metadata": {},
   "outputs": [],
   "source": [
    "folderpath = '/Users/siddhesvark/Dropbox (Joust Labs, Inc.)/Customer Success/ProPay Reports/' + str(yr) + '-' + mo\n",
    "isdir = os.path.isdir(folderpath)\n",
    "if (isdir == False):\n",
    "    os.mkdir(folderpath)"
   ]
  },
  {
   "cell_type": "code",
   "execution_count": 47,
   "metadata": {},
   "outputs": [],
   "source": [
    "folderpath2 = folderpath + '/' + str(yr) + str(mo) + str(dy)\n",
    "isdir = os.path.isdir(folderpath2)\n",
    "if(isdir == False):\n",
    "    os.mkdir(folderpath2)"
   ]
  },
  {
   "cell_type": "code",
   "execution_count": null,
   "metadata": {},
   "outputs": [],
   "source": [
    "#### Downloads box blocks view. Do 4 and then 3?"
   ]
  },
  {
   "cell_type": "code",
   "execution_count": 48,
   "metadata": {},
   "outputs": [],
   "source": [
    "soup = BeautifulSoup(driver.page_source,'lxml')\n",
    "soup.prettify()\n",
    "name_list = soup.find_all('a', attrs={'style':'font-weight: 600;'})\n",
    "filenames = [(i.contents[1].text) for i in name_list]"
   ]
  },
  {
   "cell_type": "code",
   "execution_count": 49,
   "metadata": {},
   "outputs": [],
   "source": [
    "counter = 0\n",
    "for k in driver.find_elements_by_xpath(\"//a[starts-with(@onclick, 'return Download')]\"):\n",
    "    dl1 = k\n",
    "    dl1.click()\n",
    "    list_of_files = glob.glob('/Users/siddhesvark/Downloads/*')\n",
    "    latest_file = max(list_of_files, key=os.path.getctime)\n",
    "    exit = driver.find_element_by_class_name('jswiz-dialog-header-small-close-button')\n",
    "    exit.click()\n",
    "    shutil.move(latest_file, folderpath2 + '/' + filenames[counter])\n",
    "    counter = counter + 1"
   ]
  },
  {
   "cell_type": "code",
   "execution_count": 50,
   "metadata": {},
   "outputs": [
    {
     "name": "stdout",
     "output_type": "stream",
     "text": [
      "less than 7 files recieved\n"
     ]
    }
   ],
   "source": [
    "if len(filenames)<7:\n",
    "    print('less than 7 files recieved')"
   ]
  },
  {
   "cell_type": "code",
   "execution_count": 51,
   "metadata": {},
   "outputs": [],
   "source": [
    "driver.quit()"
   ]
  },
  {
   "cell_type": "code",
   "execution_count": null,
   "metadata": {},
   "outputs": [],
   "source": []
  }
 ],
 "metadata": {
  "kernelspec": {
   "display_name": "Python 3",
   "language": "python",
   "name": "python3"
  },
  "language_info": {
   "codemirror_mode": {
    "name": "ipython",
    "version": 3
   },
   "file_extension": ".py",
   "mimetype": "text/x-python",
   "name": "python",
   "nbconvert_exporter": "python",
   "pygments_lexer": "ipython3",
   "version": "3.7.3"
  }
 },
 "nbformat": 4,
 "nbformat_minor": 2
}
