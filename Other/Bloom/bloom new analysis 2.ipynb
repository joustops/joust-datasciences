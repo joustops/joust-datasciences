{
 "cells": [
  {
   "cell_type": "code",
   "execution_count": 167,
   "metadata": {},
   "outputs": [],
   "source": [
    "import requests\n",
    "import lxml.html as lh\n",
    "import pandas as pd\n",
    "from bs4 import BeautifulSoup\n",
    "import json\n",
    "try:\n",
    "    import urllib.request as urllib2\n",
    "except ImportError:\n",
    "    import urllib2"
   ]
  },
  {
   "cell_type": "code",
   "execution_count": 168,
   "metadata": {},
   "outputs": [],
   "source": [
    "gdata = []"
   ]
  },
  {
   "cell_type": "code",
   "execution_count": 169,
   "metadata": {},
   "outputs": [],
   "source": [
    "URL = \"https://auth.bloom.dev/oauth/token\"\n",
    "PARAMS = {\"client_id\":os.environ.get('BLOOM_client_id'), \n",
    "          \"client_secret\":os.environ.get('BLOOM_client_secret'), \n",
    "          \"audience\":\"dev-api\", \n",
    "          \"grant_type\":\"client_credentials\"}\n",
    "headers1 = {'content-type': 'application/json'}\n",
    "r = requests.post(url = URL, data=json.dumps(PARAMS), headers=headers1)\n",
    "data = r.json()\n",
    "#data"
   ]
  },
  {
   "cell_type": "code",
   "execution_count": 170,
   "metadata": {},
   "outputs": [],
   "source": [
    "atoken = data['access_token']"
   ]
  },
  {
   "cell_type": "code",
   "execution_count": 175,
   "metadata": {},
   "outputs": [],
   "source": [
    "URL = \"https://sandbox.bloom.dev/v1/consumers\"\n",
    "PARAMS = {\n",
    "  \"name\": \"\",\n",
    "  \"address\": {\n",
    "    \"line1\": \"\",\n",
    "    \"city\": \"\",\n",
    "    \"state\": \"\",\n",
    "    \"zipCode\": \"\"\n",
    "  },\n",
    "  \"dateOfBirth\": \"\",\n",
    "  \"ssn\": ssn,\n",
    "  \"income\": 0\n",
    "}\n",
    "headers = {\"Authorization\": 'Bearer ' + atoken,\n",
    "           'content-type': 'application/json'}\n",
    "r = requests.post(url = URL, data=json.dumps(PARAMS), headers=headers)\n",
    "data = r.json()\n",
    "#data"
   ]
  },
  {
   "cell_type": "code",
   "execution_count": 176,
   "metadata": {},
   "outputs": [
    {
     "data": {
      "text/plain": [
       "'a10b5f01-cf1e-4c4f-ae2f-3f2e967d83dc'"
      ]
     },
     "execution_count": 176,
     "metadata": {},
     "output_type": "execute_result"
    }
   ],
   "source": [
    "#customerid = data['data']['id']\n",
    "customerid = data['errors'][0]['detail'].split()[-1]\n",
    "customerid"
   ]
  },
  {
   "cell_type": "code",
   "execution_count": 179,
   "metadata": {},
   "outputs": [],
   "source": [
    "chase = '12667810-c3a1-4cbc-b4c6-66764f2ef5a0'\n",
    "george = 'a10b5f01-cf1e-4c4f-ae2f-3f2e967d83dc'"
   ]
  },
  {
   "cell_type": "code",
   "execution_count": 187,
   "metadata": {},
   "outputs": [],
   "source": [
    "URL = 'https://sandbox.bloom.dev/v1/consumers/'+ chase +'/credit.bloom.score.vantage3'\n",
    "URL2 = 'https://sandbox.bloom.dev/v1/consumers/'+ george +'/credit.bloom.score.vantage3'"
   ]
  },
  {
   "cell_type": "code",
   "execution_count": null,
   "metadata": {},
   "outputs": [],
   "source": [
    "response = requests.get(url = URL, headers = headers)\n",
    "vantage3data = response.json()\n",
    "print(vantage3data)"
   ]
  },
  {
   "cell_type": "code",
   "execution_count": 190,
   "metadata": {},
   "outputs": [],
   "source": [
    "URL = 'https://sandbox.bloom.dev/v1/consumers/'+ chase +'/credit.bloom.summary'\n",
    "URL2 = 'https://sandbox.bloom.dev/v1/consumers/'+ george +'/credit.bloom.summary'"
   ]
  },
  {
   "cell_type": "code",
   "execution_count": null,
   "metadata": {},
   "outputs": [],
   "source": [
    "response = requests.get(url = URL, headers = headers)\n",
    "summarydata = response.json()\n",
    "print(summarydata)"
   ]
  }
 ],
 "metadata": {
  "kernelspec": {
   "display_name": "Python 3",
   "language": "python",
   "name": "python3"
  },
  "language_info": {
   "codemirror_mode": {
    "name": "ipython",
    "version": 3
   },
   "file_extension": ".py",
   "mimetype": "text/x-python",
   "name": "python",
   "nbconvert_exporter": "python",
   "pygments_lexer": "ipython3",
   "version": "3.7.3"
  }
 },
 "nbformat": 4,
 "nbformat_minor": 2
}
